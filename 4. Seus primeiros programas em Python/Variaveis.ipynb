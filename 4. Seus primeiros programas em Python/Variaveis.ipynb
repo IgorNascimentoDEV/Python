{
 "cells": [
  {
   "cell_type": "markdown",
   "id": "eb987054-179e-4509-bd4a-1775bb32f1ef",
   "metadata": {},
   "source": [
    "### Variaveis"
   ]
  },
  {
   "cell_type": "code",
   "execution_count": 4,
   "id": "829bbb52-b21e-4197-a433-df147b499caf",
   "metadata": {},
   "outputs": [],
   "source": [
    "qtd_vendas = 1500\n",
    "nome = 'Igor'"
   ]
  },
  {
   "cell_type": "code",
   "execution_count": 5,
   "id": "401886c4-7732-4232-a0f9-3950f93cc77e",
   "metadata": {},
   "outputs": [
    {
     "name": "stdout",
     "output_type": "stream",
     "text": [
      "Igor\n",
      "1500\n"
     ]
    }
   ],
   "source": [
    "print(nome)\n",
    "print(qtd_vendas)"
   ]
  }
 ],
 "metadata": {
  "kernelspec": {
   "display_name": "Python 3 (ipykernel)",
   "language": "python",
   "name": "python3"
  },
  "language_info": {
   "codemirror_mode": {
    "name": "ipython",
    "version": 3
   },
   "file_extension": ".py",
   "mimetype": "text/x-python",
   "name": "python",
   "nbconvert_exporter": "python",
   "pygments_lexer": "ipython3",
   "version": "3.12.7"
  }
 },
 "nbformat": 4,
 "nbformat_minor": 5
}
