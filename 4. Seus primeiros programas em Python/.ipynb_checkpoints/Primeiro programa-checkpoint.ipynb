{
 "cells": [
  {
   "cell_type": "markdown",
   "id": "6ed3514d-bb39-458b-b22c-8232ef36050b",
   "metadata": {},
   "source": [
    "### Primeiro programa em python"
   ]
  },
  {
   "cell_type": "code",
   "execution_count": 14,
   "id": "da2a74d1-cd93-4c5f-9430-7ab7b43f5a50",
   "metadata": {},
   "outputs": [
    {
     "name": "stdout",
     "output_type": "stream",
     "text": [
      "Uso da função print para imprimir valores na tela\n"
     ]
    }
   ],
   "source": [
    "print('Uso da função print para imprimir valores na tela')"
   ]
  },
  {
   "cell_type": "markdown",
   "id": "8542c0d0-1a4f-451a-b1e8-d0fa1328579d",
   "metadata": {},
   "source": [
    "Uso das operações matemáticas basicas"
   ]
  },
  {
   "cell_type": "code",
   "execution_count": 20,
   "id": "5c7e645c-49e6-4b43-95de-78acb95639a7",
   "metadata": {},
   "outputs": [
    {
     "name": "stdout",
     "output_type": "stream",
     "text": [
      "4\n"
     ]
    }
   ],
   "source": [
    "#Soma\n",
    "print(2+2)"
   ]
  },
  {
   "cell_type": "code",
   "execution_count": 21,
   "id": "030cecec-f279-4033-b679-ea91d4049c68",
   "metadata": {},
   "outputs": [
    {
     "name": "stdout",
     "output_type": "stream",
     "text": [
      "1\n"
     ]
    }
   ],
   "source": [
    "#Resto da divisão\n",
    "print(7%3)"
   ]
  },
  {
   "cell_type": "code",
   "execution_count": 23,
   "id": "70f9b4de-496a-4f0e-b48c-a953af9dc9a5",
   "metadata": {},
   "outputs": [
    {
     "name": "stdout",
     "output_type": "stream",
     "text": [
      "11\n"
     ]
    }
   ],
   "source": [
    "#Mesma ordem da matemática\n",
    "print(1+2 * 5)"
   ]
  },
  {
   "cell_type": "markdown",
   "id": "cc1a6914-ece3-4fb8-a1db-7cb02f3a3320",
   "metadata": {},
   "source": [
    "### String dentro do Python"
   ]
  },
  {
   "cell_type": "code",
   "execution_count": 25,
   "id": "19e25b75-efc0-4153-ac83-c0fcdb6c86c2",
   "metadata": {},
   "outputs": [
    {
     "name": "stdout",
     "output_type": "stream",
     "text": [
      "Meu nome é Igor\n"
     ]
    }
   ],
   "source": [
    "#concatenar\n",
    "print('Meu nome é ' + 'Igor')"
   ]
  },
  {
   "cell_type": "code",
   "execution_count": 27,
   "id": "cd737e80-cfaf-4c27-b5ce-3f72677d8de9",
   "metadata": {},
   "outputs": [
    {
     "name": "stdout",
     "output_type": "stream",
     "text": [
      "True\n",
      "False\n"
     ]
    }
   ],
   "source": [
    "#Verificar se o texto estar contido dentro do outro retornando um bolleando (é Case sensentive)\n",
    "print('I' in 'Igor') # Deve retornar true\n",
    "print('I' in 'igor') # Deve retornar false"
   ]
  },
  {
   "cell_type": "markdown",
   "id": "44011679-0e74-43a1-b192-9a00268fbd43",
   "metadata": {},
   "source": [
    "### Erro em Variaveis"
   ]
  },
  {
   "cell_type": "code",
   "execution_count": 31,
   "id": "17d24739-dbf3-4dba-b4e8-b90bd4d6a4f6",
   "metadata": {},
   "outputs": [],
   "source": [
    "#Temos que executar um por um de cima para baixo para declaração de funções e variaveis.\n",
    "\n",
    "faturamento = 150\n",
    "custo = 60"
   ]
  },
  {
   "cell_type": "code",
   "execution_count": 32,
   "id": "eb8e2d28-898b-4bc5-b790-1b950da19631",
   "metadata": {},
   "outputs": [
    {
     "name": "stdout",
     "output_type": "stream",
     "text": [
      "90\n"
     ]
    }
   ],
   "source": [
    "lucro = faturamento - custo\n",
    "\n",
    "print(lucro)"
   ]
  }
 ],
 "metadata": {
  "kernelspec": {
   "display_name": "Python 3 (ipykernel)",
   "language": "python",
   "name": "python3"
  },
  "language_info": {
   "codemirror_mode": {
    "name": "ipython",
    "version": 3
   },
   "file_extension": ".py",
   "mimetype": "text/x-python",
   "name": "python",
   "nbconvert_exporter": "python",
   "pygments_lexer": "ipython3",
   "version": "3.12.7"
  }
 },
 "nbformat": 4,
 "nbformat_minor": 5
}
